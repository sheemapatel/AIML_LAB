{
  "cells": [
    {
      "cell_type": "markdown",
      "metadata": {
        "id": "view-in-github",
        "colab_type": "text"
      },
      "source": [
        "<a href=\"https://colab.research.google.com/github/sheemapatel/AIML_LAB/blob/main/Welcome_To_Colab.ipynb\" target=\"_parent\"><img src=\"https://colab.research.google.com/assets/colab-badge.svg\" alt=\"Open In Colab\"/></a>"
      ]
    },
    {
      "cell_type": "code",
      "source": [
        "import pandas as pd\n",
        "\n",
        "\n",
        "hotels_df = pd.read_csv('hotels.csv')\n",
        "cars_df = pd.read_csv('car_sales.csv')\n",
        "\n",
        "\n",
        "top_hotels = hotels_df.groupby('hotel_name').agg({'rating': 'mean'}).nlargest(5, 'rating')\n",
        "print(\"Top 5 Hotels Most Liked by Customers:\")\n",
        "print(top_hotels)\n",
        "\n",
        "country_counts = hotels_df['country'].value_counts()\n",
        "most_hotels_country = country_counts.idxmax()\n",
        "print(f\"Country with Most Hotels for Tourism: {most_hotels_country}\")\n",
        "\n",
        "\n",
        "filtered_cars = cars_df[(cars_df['year'] >= 2007) & (cars_df['year'] <= 2009)]\n",
        "max_cars_sold = filtered_cars['quantity'].max()\n",
        "min_cars_sold = filtered_cars['quantity'].min()\n",
        "print(f\"Max Cars Sold (2007-2009): {max_cars_sold}, Min Cars Sold (2007-2009): {min_cars_sold}\")\n",
        "\n",
        "\n",
        "city_counts = hotels_df['city'].value_counts()\n",
        "most_liked_city = city_counts.idxmax()\n",
        "print(f\"City with Most Hotels Liked by Customers: {most_liked_city}\")\n",
        "\n",
        "most_sold_model = cars_df.groupby('model')['quantity'].sum().idxmax()\n",
        "print(f\"Model of the Car Most Sold in Market: {most_sold_model}\")"
      ],
      "metadata": {
        "id": "7J1kmOxmhJhM",
        "outputId": "7416e62d-0fc8-4ff0-b8f0-7a67453d8745",
        "colab": {
          "base_uri": "https://localhost:8080/"
        }
      },
      "execution_count": 10,
      "outputs": [
        {
          "output_type": "stream",
          "name": "stdout",
          "text": [
            "Top 5 Hotels Most Liked by Customers:\n",
            "            rating\n",
            "hotel_name        \n",
            "Hotel D        4.8\n",
            "Hotel B        4.7\n",
            "Hotel F        4.6\n",
            "Hotel A        4.5\n",
            "Hotel E        4.3\n",
            "Country with Most Hotels for Tourism: USA\n",
            "Max Cars Sold (2007-2009): 350000, Min Cars Sold (2007-2009): 250000\n",
            "City with Most Hotels Liked by Customers: Paris\n",
            "Model of the Car Most Sold in Market: Toyota Corolla\n"
          ]
        }
      ]
    }
  ],
  "metadata": {
    "colab": {
      "name": "Welcome To Colab",
      "provenance": [],
      "include_colab_link": true
    },
    "kernelspec": {
      "display_name": "Python 3",
      "name": "python3"
    }
  },
  "nbformat": 4,
  "nbformat_minor": 0
}